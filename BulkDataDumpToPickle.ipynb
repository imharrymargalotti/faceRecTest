{
 "cells": [
  {
   "cell_type": "code",
   "execution_count": 25,
   "metadata": {},
   "outputs": [],
   "source": [
    "import face_recognition\n",
    "import cv2\n",
    "import numpy as np\n",
    "from math import sin, cos, radians\n",
    "import pickle\n",
    "import os\n",
    "import csv"
   ]
  },
  {
   "cell_type": "code",
   "execution_count": 26,
   "metadata": {},
   "outputs": [
    {
     "name": "stdout",
     "output_type": "stream",
     "text": [
      "data loaded\n"
     ]
    }
   ],
   "source": [
    "#this cell is just grabbing data we already have \n",
    "#and putting it into lists or we will create the files/lists\n",
    "\n",
    "ArquivoEncoding = \"Codings.p\"\n",
    "ArquivoNome = \"Names.p\"\n",
    "known_face_encodings = []\n",
    "known_face_names = []\n",
    "\n",
    "if not(os.path.isfile(\"Codings.p\")): #if the file does not exist\n",
    "    with open(ArquivoEncoding, 'wb') as fp:\n",
    "        pickle.dump(known_face_encodings, fp)\n",
    "else:\n",
    "    with open (ArquivoEncoding, 'rb') as fp:\n",
    "        print(\"data loaded\")\n",
    "        known_face_encodings = pickle.load(fp)\n",
    "\n",
    "if not(os.path.isfile(\"Names.p\")):\n",
    "    with open(ArquivoNome, 'wb') as fp:\n",
    "        pickle.dump(known_face_names, fp)\n",
    "else:\n",
    "    with open (ArquivoNome, 'rb') as fp:\n",
    "        known_face_names = pickle.load(fp)\n"
   ]
  },
  {
   "cell_type": "code",
   "execution_count": 27,
   "metadata": {},
   "outputs": [
    {
     "name": "stdout",
     "output_type": "stream",
     "text": [
      "Dave_Margalotti.png\n",
      "Jeffrey_Furticella.png\n",
      "Chelsea_Matiash.png\n",
      "Max_Matiash.png\n",
      "Patty_Margalotti.png\n",
      "Lexi_Cimmino.png\n"
     ]
    }
   ],
   "source": [
    "#lets iterate through the new_faces folder\n",
    "#Names assigned to the faces will be the file name\n",
    "\n",
    "#FILE NAME SHOULD BE: First_Last.png\n",
    "\n",
    "def genFaceName(filename):\n",
    "    end = filename.find(\".\")\n",
    "    name = filename[0:end]\n",
    "    name = name.replace(\"_\", \" \")\n",
    "    return name\n",
    "\n",
    "directory = \"new_faces\"\n",
    "for filename in os.listdir(directory):\n",
    "    if filename.lower().endswith(\".png\") or filename.endswith(\".jpg\"): \n",
    "        print(filename)\n",
    "        face_name = genFaceName(filename)\n",
    "        tmp_image = face_recognition.load_image_file(directory +\"/\" + filename)\n",
    "        tmp_face_encoding = face_recognition.face_encodings(tmp_image)[0]\n",
    "        known_face_encodings.append(tmp_face_encoding)\n",
    "        known_face_names.append(face_name)\n",
    "        continue\n",
    "    else:\n",
    "        continue"
   ]
  },
  {
   "cell_type": "code",
   "execution_count": 28,
   "metadata": {},
   "outputs": [
    {
     "name": "stdout",
     "output_type": "stream",
     "text": [
      "Faces now known: \n",
      "['Harrison Margalotti', 'Jake Lepore', 'Sam Margalotti', 'Johnna Margalotti', 'Dave Margalotti', 'Jeffrey Furticella', 'Chelsea Matiash', 'Max Matiash', 'Patty Margalotti', 'Lexi Cimmino']\n",
      "Ready to save? [1:0]\n",
      "1\n",
      "Names' and encodings' lists converted in binary and saved!\n"
     ]
    }
   ],
   "source": [
    "print(\"Faces now known: \")\n",
    "print(known_face_names)\n",
    "ans = bool(input(\"Ready to save? [1:0]\\n\"))\n",
    "\n",
    "if ans:\n",
    "    with open(ArquivoEncoding, 'wb') as fp:\n",
    "        pickle.dump(known_face_encodings, fp)\n",
    "        with open (ArquivoEncoding, 'rb') as fp:\n",
    "            known_face_encodings = pickle.load(fp)\n",
    "        with open(ArquivoNome, 'wb') as fp:\n",
    "            pickle.dump(known_face_names, fp)\n",
    "        with open (ArquivoNome, 'rb') as fp:\n",
    "            known_face_names = pickle.load(fp)\n",
    "        print(\"Names' and encodings' lists converted in binary and saved!\")"
   ]
  },
  {
   "cell_type": "code",
   "execution_count": 29,
   "metadata": {},
   "outputs": [
    {
     "name": "stdout",
     "output_type": "stream",
     "text": [
      "done\n"
     ]
    }
   ],
   "source": [
    "#lets update a csv with the names of people we know\n",
    "with open('known_people.csv', mode='w') as names_file:\n",
    "    names_writer = csv.writer(names_file, delimiter=',', quotechar='\"', quoting=csv.QUOTE_MINIMAL)\n",
    "    for name in known_face_names:\n",
    "        row = []\n",
    "        row.append(name)\n",
    "        names_writer.writerow(row)\n",
    "print(\"done\")"
   ]
  }
 ],
 "metadata": {
  "kernelspec": {
   "display_name": "Python 3",
   "language": "python",
   "name": "python3"
  },
  "language_info": {
   "codemirror_mode": {
    "name": "ipython",
    "version": 3
   },
   "file_extension": ".py",
   "mimetype": "text/x-python",
   "name": "python",
   "nbconvert_exporter": "python",
   "pygments_lexer": "ipython3",
   "version": "3.7.1"
  }
 },
 "nbformat": 4,
 "nbformat_minor": 2
}
