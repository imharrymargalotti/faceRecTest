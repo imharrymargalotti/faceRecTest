{
 "cells": [
  {
   "cell_type": "code",
   "execution_count": 1,
   "metadata": {},
   "outputs": [],
   "source": [
    "from PIL import Image\n",
    "import face_recognition as fr\n",
    "\n",
    "# image = face_recognition.load_image_file(\"my_picture.jpg\")\n",
    "# face_locations = face_recognition.face_locations(image)"
   ]
  },
  {
   "cell_type": "code",
   "execution_count": 2,
   "metadata": {},
   "outputs": [],
   "source": [
    "image = fr.load_image_file(\"unknown_faces/family.jpg\")\n",
    "\n",
    "sam_margalotti = fr.load_image_file(\"known_faces/sam_margalotti.jpg\")\n",
    "johnna_margalotti = fr.load_image_file(\"known_faces/johnna_margalotti.jpg\")\n",
    "# sam_margalotti = fr.load_image_file(\"known_faces/sam_margalotti.jpg\")\n",
    "# sam_margalotti = fr.load_image_file(\"known_faces/sam_margalotti.jpg\")\n",
    "# sam_margalotti = fr.load_image_file(\"known_faces/sam_margalotti.jpg\")\n",
    "# sam_margalotti = fr.load_image_file(\"known_faces/sam_margalotti.jpg\")\n",
    "sam_face_encoding = fr.face_encodings(sam_margalotti)\n",
    "johnna_face_encoding = fr.face_encodings(johnna_margalotti)\n",
    "\n",
    "known_face_encodings = [\n",
    "    sam_face_encoding,\n",
    "    johnna_face_encoding\n",
    "]"
   ]
  },
  {
   "cell_type": "code",
   "execution_count": 3,
   "metadata": {},
   "outputs": [
    {
     "name": "stdout",
     "output_type": "stream",
     "text": [
      "I found 6 face(s) in this photograph.\n"
     ]
    }
   ],
   "source": [
    "# Find all the faces in the image\n",
    "face_locations = fr.face_locations(image)\n",
    "\n",
    "print(\"I found {} face(s) in this photograph.\".format(len(face_locations)))\n"
   ]
  },
  {
   "cell_type": "code",
   "execution_count": 4,
   "metadata": {},
   "outputs": [],
   "source": [
    "#get face encodings for each face in the image:\n",
    "list_of_unknown_face_encodings = fr.face_encodings(image)"
   ]
  },
  {
   "cell_type": "code",
   "execution_count": null,
   "metadata": {},
   "outputs": [],
   "source": [
    "for face_location in face_locations:\n",
    "\n",
    "    # Print the location of each face in this image\n",
    "    top, right, bottom, left = face_location\n",
    "    print(\"A face is located at pixel location Top: {}, Left: {}, Bottom: {}, Right: {}\".format(top, left, bottom, right))\n",
    "\n",
    "    # You can access the actual face itself like this:\n",
    "    face_image = image[top:bottom, left:right]\n",
    "    pil_image = Image.fromarray(face_image)\n",
    "#     pil_image.show()"
   ]
  },
  {
   "cell_type": "code",
   "execution_count": 12,
   "metadata": {},
   "outputs": [
    {
     "name": "stdout",
     "output_type": "stream",
     "text": [
      "6\n",
      "[False]\n",
      "[False]\n",
      "[False]\n",
      "[False]\n",
      "[False]\n",
      "[True]\n"
     ]
    }
   ],
   "source": [
    "print(len(list_of_unknown_face_encodings))\n",
    "\n",
    "# results is an array of True/False telling if the unknown face matched anyone in the known_faces array\n",
    "for unknown_face in list_of_unknown_face_encodings:\n",
    "    results = fr.compare_faces(sam_face_encoding, unknown_face)\n",
    "    print(results)"
   ]
  }
 ],
 "metadata": {
  "kernelspec": {
   "display_name": "Python 3",
   "language": "python",
   "name": "python3"
  },
  "language_info": {
   "codemirror_mode": {
    "name": "ipython",
    "version": 3
   },
   "file_extension": ".py",
   "mimetype": "text/x-python",
   "name": "python",
   "nbconvert_exporter": "python",
   "pygments_lexer": "ipython3",
   "version": "3.6.8"
  }
 },
 "nbformat": 4,
 "nbformat_minor": 2
}
